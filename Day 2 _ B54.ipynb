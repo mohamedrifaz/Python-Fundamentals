{
 "cells": [
  {
   "cell_type": "code",
   "execution_count": 2,
   "id": "a31d3ac6",
   "metadata": {},
   "outputs": [
    {
     "name": "stdout",
     "output_type": "stream",
     "text": [
      "7\n"
     ]
    }
   ],
   "source": [
    "#introduction to python variables\n",
    "\n",
    "x = 3\n",
    "y = 4\n",
    "z = x+y\n",
    "\n",
    "print (z)"
   ]
  },
  {
   "cell_type": "code",
   "execution_count": 3,
   "id": "6ac2052d",
   "metadata": {},
   "outputs": [],
   "source": [
    "#Rules for declaring the variable in python\n",
    "# 1. No name spaces while declaring the variable names (First-name = “Rifaz”)\n",
    "# 2. A variable name should not start with a number, but it can be in end or in between\n",
    "# 3. A variable name should not contain any special characters"
   ]
  },
  {
   "cell_type": "code",
   "execution_count": 4,
   "id": "32d65ea6",
   "metadata": {},
   "outputs": [
    {
     "ename": "SyntaxError",
     "evalue": "invalid syntax (<ipython-input-4-3b44c5cc1977>, line 3)",
     "output_type": "error",
     "traceback": [
      "\u001b[0;36m  File \u001b[0;32m\"<ipython-input-4-3b44c5cc1977>\"\u001b[0;36m, line \u001b[0;32m3\u001b[0m\n\u001b[0;31m    First name = \"Rifaz\"\u001b[0m\n\u001b[0m          ^\u001b[0m\n\u001b[0;31mSyntaxError\u001b[0m\u001b[0;31m:\u001b[0m invalid syntax\n"
     ]
    }
   ],
   "source": [
    "# Rule 1\n",
    "\n",
    "First name = \"Rifaz\"\n",
    "\n",
    "print (First name)"
   ]
  },
  {
   "cell_type": "code",
   "execution_count": 5,
   "id": "a9efcd86",
   "metadata": {},
   "outputs": [
    {
     "name": "stdout",
     "output_type": "stream",
     "text": [
      "Rifaz\n"
     ]
    }
   ],
   "source": [
    "# Rule 1 - Corrected\n",
    "\n",
    "Firstname = \"Rifaz\"\n",
    "\n",
    "print (Firstname)"
   ]
  },
  {
   "cell_type": "code",
   "execution_count": 6,
   "id": "4161187b",
   "metadata": {},
   "outputs": [
    {
     "ename": "SyntaxError",
     "evalue": "invalid syntax (<ipython-input-6-b7e36410ffd1>, line 3)",
     "output_type": "error",
     "traceback": [
      "\u001b[0;36m  File \u001b[0;32m\"<ipython-input-6-b7e36410ffd1>\"\u001b[0;36m, line \u001b[0;32m3\u001b[0m\n\u001b[0;31m    1name = \"Rifaz\"\u001b[0m\n\u001b[0m     ^\u001b[0m\n\u001b[0;31mSyntaxError\u001b[0m\u001b[0;31m:\u001b[0m invalid syntax\n"
     ]
    }
   ],
   "source": [
    "# Rule 2\n",
    "\n",
    "1name = \"Rifaz\"\n",
    "\n",
    "print (1name)"
   ]
  },
  {
   "cell_type": "code",
   "execution_count": 7,
   "id": "d9e68f6b",
   "metadata": {},
   "outputs": [
    {
     "name": "stdout",
     "output_type": "stream",
     "text": [
      "Rifaz\n"
     ]
    }
   ],
   "source": [
    "# Rule 2 - Corrected\n",
    "\n",
    "\n",
    "na1me1 = \"Rifaz\"\n",
    "\n",
    "print (na1me1)"
   ]
  },
  {
   "cell_type": "code",
   "execution_count": 8,
   "id": "191b3db3",
   "metadata": {},
   "outputs": [
    {
     "ename": "SyntaxError",
     "evalue": "invalid syntax (<ipython-input-8-d5898c4a9b86>, line 3)",
     "output_type": "error",
     "traceback": [
      "\u001b[0;36m  File \u001b[0;32m\"<ipython-input-8-d5898c4a9b86>\"\u001b[0;36m, line \u001b[0;32m3\u001b[0m\n\u001b[0;31m    @name = \"Rifaz\"\u001b[0m\n\u001b[0m          ^\u001b[0m\n\u001b[0;31mSyntaxError\u001b[0m\u001b[0;31m:\u001b[0m invalid syntax\n"
     ]
    }
   ],
   "source": [
    "# Rule 3\n",
    "\n",
    "@name = \"Rifaz\"\n",
    "\n",
    "print (@name)"
   ]
  },
  {
   "cell_type": "code",
   "execution_count": 12,
   "id": "609ca175",
   "metadata": {},
   "outputs": [],
   "source": [
    "#Introduction to data types in python\n",
    "# 1. String > str\n",
    "# 2. Numbers > integers (int) and floats (decimals) > float\n",
    "# 3. List > list\n",
    "# 4. Tuple > tuple\n",
    "# 5. Dictionaries > dict\n",
    "# Note: python is a case sensitive language\n",
    "\n",
    "#Classification of data types\n",
    "#Data Types are classified in to 2 different types\n",
    "# 1. Mutable data types > which we can edit or alter > flexible in nature\n",
    "# 2. Immutable data types > which we cannot edit or alter > fixed in nature\n",
    "\n",
    "#Introduction to string data types\n",
    " #Definition: string is a series of characters declared in quotes\n",
    " #Classification: it is classified as immutable data types"
   ]
  },
  {
   "cell_type": "code",
   "execution_count": 14,
   "id": "ccea58da",
   "metadata": {},
   "outputs": [],
   "source": [
    "#How do you declare a string ?\n",
    "\n",
    "#3 possible approaches for declaring a string.\n",
    "\n",
    "# 1. Single quote\n",
    "# 2. Double quotes\n",
    "# 3. Triple quotes\n",
    "\n"
   ]
  },
  {
   "cell_type": "code",
   "execution_count": 15,
   "id": "f352e148",
   "metadata": {},
   "outputs": [
    {
     "name": "stdout",
     "output_type": "stream",
     "text": [
      "Rifaz\n"
     ]
    }
   ],
   "source": [
    "# single quote\n",
    "\n",
    "name = 'Rifaz'\n",
    "\n",
    "print (name)"
   ]
  },
  {
   "cell_type": "code",
   "execution_count": 34,
   "id": "39a5040e",
   "metadata": {},
   "outputs": [
    {
     "ename": "TypeError",
     "evalue": "'str' object is not callable",
     "output_type": "error",
     "traceback": [
      "\u001b[0;31m---------------------------------------------------------------------------\u001b[0m",
      "\u001b[0;31mTypeError\u001b[0m                                 Traceback (most recent call last)",
      "\u001b[0;32m<ipython-input-34-53479072c82b>\u001b[0m in \u001b[0;36m<module>\u001b[0;34m\u001b[0m\n\u001b[1;32m      3\u001b[0m \u001b[0mname\u001b[0m \u001b[0;34m=\u001b[0m \u001b[0;34m\"Rifaz\"\u001b[0m\u001b[0;34m\u001b[0m\u001b[0;34m\u001b[0m\u001b[0m\n\u001b[1;32m      4\u001b[0m \u001b[0;34m\u001b[0m\u001b[0m\n\u001b[0;32m----> 5\u001b[0;31m \u001b[0mprint\u001b[0m \u001b[0;34m(\u001b[0m\u001b[0mname\u001b[0m\u001b[0;34m)\u001b[0m\u001b[0;34m\u001b[0m\u001b[0;34m\u001b[0m\u001b[0m\n\u001b[0m",
      "\u001b[0;31mTypeError\u001b[0m: 'str' object is not callable"
     ]
    }
   ],
   "source": [
    "# double quotes\n",
    "\n",
    "name = \"Rifaz\"\n",
    "\n",
    "print (name)"
   ]
  },
  {
   "cell_type": "code",
   "execution_count": 29,
   "id": "757db31e",
   "metadata": {},
   "outputs": [
    {
     "ename": "TypeError",
     "evalue": "'str' object is not callable",
     "output_type": "error",
     "traceback": [
      "\u001b[0;31m---------------------------------------------------------------------------\u001b[0m",
      "\u001b[0;31mTypeError\u001b[0m                                 Traceback (most recent call last)",
      "\u001b[0;32m<ipython-input-29-dbb92bcdfd18>\u001b[0m in \u001b[0;36m<module>\u001b[0;34m\u001b[0m\n\u001b[1;32m      3\u001b[0m \u001b[0mname\u001b[0m \u001b[0;34m=\u001b[0m \u001b[0;34m\"\"\"Rifaz\"\"\"\u001b[0m\u001b[0;34m\u001b[0m\u001b[0;34m\u001b[0m\u001b[0m\n\u001b[1;32m      4\u001b[0m \u001b[0;34m\u001b[0m\u001b[0m\n\u001b[0;32m----> 5\u001b[0;31m \u001b[0mprint\u001b[0m \u001b[0;34m(\u001b[0m\u001b[0mname\u001b[0m\u001b[0;34m)\u001b[0m\u001b[0;34m\u001b[0m\u001b[0;34m\u001b[0m\u001b[0m\n\u001b[0m",
      "\u001b[0;31mTypeError\u001b[0m: 'str' object is not callable"
     ]
    }
   ],
   "source": [
    "# triple quotes\n",
    "\n",
    "name = \"\"\"Rifaz\"\"\"\n",
    "\n",
    "print (name)"
   ]
  },
  {
   "cell_type": "code",
   "execution_count": 1,
   "id": "e3fe4368",
   "metadata": {},
   "outputs": [],
   "source": [
    "# hashtag is used for commenting the lines"
   ]
  },
  {
   "cell_type": "code",
   "execution_count": null,
   "id": "b75cce7c",
   "metadata": {},
   "outputs": [],
   "source": []
  }
 ],
 "metadata": {
  "kernelspec": {
   "display_name": "Python 3",
   "language": "python",
   "name": "python3"
  },
  "language_info": {
   "codemirror_mode": {
    "name": "ipython",
    "version": 3
   },
   "file_extension": ".py",
   "mimetype": "text/x-python",
   "name": "python",
   "nbconvert_exporter": "python",
   "pygments_lexer": "ipython3",
   "version": "3.8.8"
  }
 },
 "nbformat": 4,
 "nbformat_minor": 5
}
